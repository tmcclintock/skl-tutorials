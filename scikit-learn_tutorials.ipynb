{
 "cells": [
  {
   "cell_type": "markdown",
   "metadata": {},
   "source": [
    "# Part 1: Statistical learning\n",
    "The setting and the estimator object (not included)"
   ]
  },
  {
   "cell_type": "code",
   "execution_count": 1,
   "metadata": {
    "collapsed": true
   },
   "outputs": [],
   "source": [
    "import numpy as np\n",
    "import matplotlib.pyplot as plt\n",
    "%matplotlib inline"
   ]
  },
  {
   "cell_type": "code",
   "execution_count": 2,
   "metadata": {
    "collapsed": false
   },
   "outputs": [
    {
     "name": "stdout",
     "output_type": "stream",
     "text": [
      "(1797, 8, 8)\n"
     ]
    },
    {
     "data": {
      "image/png": "[encoded data removed]",
      "text/plain": [
       "<matplotlib.figure.Figure at 0x7fb36fb1cf90>"
      ]
     },
     "metadata": {},
     "output_type": "display_data"
    }
   ],
   "source": [
    "#digits data set\n",
    "from sklearn import datasets\n",
    "digits = datasets.load_digits()\n",
    "print digits.images.shape\n",
    "\n",
    "plt.imshow(digits.images[-1], cmap=plt.cm.gray_r, interpolation='none')\n",
    "\n",
    "data = digits.images.reshape((digits.images.shape[0], -1))"
   ]
  },
  {
   "cell_type": "markdown",
   "metadata": {},
   "source": [
    "# Part 2: Supervised learning\n",
    "Predicting an output variable from high-dimensional observations"
   ]
  },
  {
   "cell_type": "code",
   "execution_count": 3,
   "metadata": {
    "collapsed": false
   },
   "outputs": [
    {
     "data": {
      "text/plain": [
       "array([0, 1, 2])"
      ]
     },
     "execution_count": 3,
     "metadata": {},
     "output_type": "execute_result"
    }
   ],
   "source": [
    "#iris data set\n",
    "iris = datasets.load_iris()\n",
    "iris_X = iris.data\n",
    "iris_y = iris.target\n",
    "np.unique(iris_y)"
   ]
  },
  {
   "cell_type": "code",
   "execution_count": 4,
   "metadata": {
    "collapsed": false
   },
   "outputs": [
    {
     "name": "stdout",
     "output_type": "stream",
     "text": [
      "[1 2 1 0 0 0 2 1 2 0]\n",
      "[1 1 1 0 0 0 2 1 2 0]\n"
     ]
    }
   ],
   "source": [
    "#Let's use K-nearest neighbor (KNN) to try to classify\n",
    "#Split iris data in train and test data\n",
    "#A random permutation, to split the data randomly\n",
    "np.random.seed(0)\n",
    "indices = np.random.permutation(len(iris_X))\n",
    "iris_X_train = iris_X[indices[:-10]]\n",
    "iris_y_train = iris_y[indices[:-10]]\n",
    "iris_X_test  = iris_X[indices[-10:]]\n",
    "iris_y_test  = iris_y[indices[-10:]]\n",
    "#Create and fit a nn classifier\n",
    "from sklearn.neighbors import KNeighborsClassifier\n",
    "knn = KNeighborsClassifier()\n",
    "knn.fit(iris_X_train, iris_y_train)\n",
    "iris_y_guess = knn.predict(iris_X_test)\n",
    "print iris_y_guess\n",
    "print iris_y_test"
   ]
  },
  {
   "cell_type": "code",
   "execution_count": 5,
   "metadata": {
    "collapsed": true
   },
   "outputs": [],
   "source": [
    "#Let's practice regression on the diabetes data set\n",
    "diabetes = datasets.load_diabetes()\n",
    "diabetes_X_train = diabetes.data[:-20]\n",
    "diabetes_X_test  = diabetes.data[-20:]\n",
    "diabetes_y_train = diabetes.target[:-20]\n",
    "diabetes_y_test  = diabetes.target[-20:]"
   ]
  },
  {
   "cell_type": "code",
   "execution_count": 6,
   "metadata": {
    "collapsed": false
   },
   "outputs": [
    {
     "name": "stdout",
     "output_type": "stream",
     "text": [
      "2004.56760269\n",
      "0.585075302269\n"
     ]
    }
   ],
   "source": [
    "from sklearn import linear_model\n",
    "regr = linear_model.LinearRegression()\n",
    "regr.fit(diabetes_X_train,diabetes_y_train)\n",
    "var = np.mean((regr.predict(diabetes_X_test)-diabetes_y_test)**2)\n",
    "print var\n",
    "print regr.score(diabetes_X_test, diabetes_y_test)"
   ]
  },
  {
   "cell_type": "markdown",
   "metadata": {
    "collapsed": true
   },
   "source": [
    "# Digits exercise\n",
    "Here I will work with the K-nearest neighbor classifier to classify the digits, and then use linear regression to do something similar, hopefully."
   ]
  },
  {
   "cell_type": "code",
   "execution_count": 7,
   "metadata": {
    "collapsed": false
   },
   "outputs": [
    {
     "name": "stdout",
     "output_type": "stream",
     "text": [
      "[ 0  0  0  0  0  0  0  0  0  0  0  0  0  0  0  0  0  0  0  0  0  0  0  0  0\n",
      "  0  0  0  0  0  0  0  0  0  0  0  0  0  0  0  0 -6  0  4  0 -4  0  0  0 -1\n",
      "  0  0  0  0  0  0  0  0  0  0  0  0  0  0  0  0  0  0  0  0  0  0  0  0  0\n",
      "  0  0  0  0  0  0  0  0  0  0  0  0  0  0  0  0  0  0  0  0  0  0  0  0  0\n",
      "  0  0  0  0  0  0  0  0  0  0 -1  0  0  0  0  0  0  0  0  0  0  0  0  0  0\n",
      "  0  0  0  0  0  0  0  0  0  0  0  0  0  0  0  0  0  0  0  0  0  0  0  2  0\n",
      "  0  0  0  0  0  0  0  0  0  0  0  0  0  0  0  0  0  0  0  0  0  0  0 -7  0\n",
      "  0  0  0  0  0]\n",
      "[5 2 8 0 1 7 6 3 2 1]\n"
     ]
    }
   ],
   "source": [
    "#First get the data\n",
    "digits = datasets.load_digits()\n",
    "N = int(digits.data.shape[0]*0.9)\n",
    "digits_X_train = digits.data[:N]\n",
    "digits_X_test  = digits.data[N:]\n",
    "digits_y_train = digits.target[:N]\n",
    "digits_y_test  = digits.target[N:]\n",
    "knn = KNeighborsClassifier()\n",
    "knn.fit(digits_X_train, digits_y_train)\n",
    "digits_y_guess = knn.predict(digits_X_test)\n",
    "print digits_y_guess - digits_y_test\n",
    "print digits_y_test[:10]"
   ]
  },
  {
   "cell_type": "code",
   "execution_count": 9,
   "metadata": {
    "collapsed": false
   },
   "outputs": [
    {
     "name": "stdout",
     "output_type": "stream",
     "text": [
      "4.74411630688\n",
      "0.408955609608\n",
      "[ 1.48068841 -1.27675458 -2.85120408  0.7548301   2.2608682   0.2474247\n",
      " -0.02438887 -0.87107968 -2.77279246  1.95328432 -0.6680488   2.95867256\n",
      " -0.12826369 -2.64807558  1.19470341 -0.19258099 -0.6412402   1.70556446\n",
      "  1.43182892 -1.59966449 -1.34340226 -1.43066442 -1.73501708  1.55202358\n",
      "  0.07543667  0.96022349 -0.7944568  -1.77786006 -2.43640393 -5.85346554\n",
      " -0.93982986  0.37784529 -3.16294911  0.95564144  1.60081205  1.44858812\n",
      "  0.1183889   0.953639    1.44221857 -1.01469026 -0.26262586 -6.21028625\n",
      " -0.74678629  4.21938838  0.08047689 -5.99955282  2.39361038 -2.68862619\n",
      "  0.61875    -3.56299572  1.03698843  1.30974609 -1.59268483  1.50102794\n",
      "  2.41178895  1.63047556 -0.34104641  0.29692916 -2.43508936 -1.42376897\n",
      "  0.15589712  1.3831513   0.22952093  0.99761318 -0.01522874  1.46011679\n",
      " -2.04022878 -2.25452769 -2.57698829 -1.87118356 -0.49529194  3.08599431\n",
      " -0.54144502  2.75157318  1.83707871  3.25678172 -1.95783441 -0.15173674\n",
      " -2.91960507 -1.29829109  1.25521965 -2.9721765   0.15995129  1.58563705\n",
      " -1.23210268  1.89724632  0.75597651 -5.21510589  2.36048637 -3.43621607\n",
      " -0.5241204   4.89886309  1.94835449  0.84809686 -0.5555166   2.1459205\n",
      "  2.2681588   2.16378806  0.33064354  0.7881069   2.03602371 -0.88820953\n",
      " -1.25170028  0.33486672 -1.40355862  0.45325112  3.63707607  1.52534289\n",
      " -2.26764439  2.90773076  2.4800359  -1.94807894 -0.78261196  2.38958603\n",
      " -0.32784737 -2.28835538 -0.37106633 -1.50325899  2.00834119 -2.70864648\n",
      "  4.41828803  0.62729288  0.03543142 -2.49370196  3.79168286 -0.53230902\n",
      " -1.43977936  0.63398935 -2.16441474 -1.08754922  4.83429855 -1.06248226\n",
      " -2.27309289  2.30557641 -1.29695973  4.22238004 -3.32058692 -1.10655127\n",
      "  0.26194323  1.42317393  3.38579969  2.66650108 -2.70570716  1.79468288\n",
      " -0.75626595  1.31519911 -0.2704938  -0.75989964  1.48600837  3.14062573\n",
      " -1.01630477  1.83939287  3.18644813 -1.14856652 -2.49862043 -4.70056905\n",
      " -0.77623507  3.80490187 -0.03136592  2.84728091  0.59747425 -1.1048494\n",
      " -0.74706586 -1.0278136  -2.39731815  0.74430228  1.06098634  2.93778045\n",
      " -1.42259036 -5.16709019  2.42026213 -1.28290413 -3.88266759 -3.98168416\n",
      "  0.567734   -0.90741598  0.59609207 -0.55210018 -3.31752234  0.74584386]\n"
     ]
    }
   ],
   "source": [
    "regr = linear_model.LinearRegression()\n",
    "regr.fit(digits_X_train,digits_y_train)\n",
    "var = np.mean((regr.predict(digits_X_test)-digits_y_test)**2)\n",
    "print var\n",
    "print regr.score(digits_X_test, digits_y_test)\n",
    "print regr.predict(digits_X_test)-digits_y_test"
   ]
  },
  {
   "cell_type": "code",
   "execution_count": null,
   "metadata": {
    "collapsed": true
   },
   "outputs": [],
   "source": []
  },
  {
   "cell_type": "code",
   "execution_count": null,
   "metadata": {
    "collapsed": true
   },
   "outputs": [],
   "source": []
  }
 ],
 "metadata": {
  "kernelspec": {
   "display_name": "Python 2",
   "language": "python",
   "name": "python2"
  },
  "language_info": {
   "codemirror_mode": {
    "name": "ipython",
    "version": 2
   },
   "file_extension": ".py",
   "mimetype": "text/x-python",
   "name": "python",
   "nbconvert_exporter": "python",
   "pygments_lexer": "ipython2",
   "version": "2.7.12"
  }
 },
 "nbformat": 4,
 "nbformat_minor": 0
}
