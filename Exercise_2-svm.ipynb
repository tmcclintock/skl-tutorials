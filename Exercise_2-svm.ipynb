{
 "cells": [
  {
   "cell_type": "markdown",
   "metadata": {},
   "source": [
    "In the last exercise I used KNN and logisticclassification linear regression to classify pictoral representations of digits. Now, I'll use SVMs to classify both class 1 and class 2 from the iris data set."
   ]
  },
  {
   "cell_type": "code",
   "execution_count": null,
   "metadata": {
    "collapsed": true
   },
   "outputs": [],
   "source": [
    "import numpy as np\n",
    "from sklearn import datasets, svm\n",
    "import matplotlib.pyplot as plt\n",
    "%matplotlib inline\n",
    "np.random.seed(0)"
   ]
  },
  {
   "cell_type": "code",
   "execution_count": null,
   "metadata": {
    "collapsed": false
   },
   "outputs": [],
   "source": [
    "#Get the iris data and get a random set of data\n",
    "iris = datasets.load_iris()\n",
    "iris_X = iris.data\n",
    "iris_y = iris.target\n",
    "#We only work with the first two features and classes\n",
    "iris_X = iris_X[iris_y != 0, :2]\n",
    "iris_y = iris_y[iris_y != 0]\n",
    "print np.unique(iris_y)\n",
    "print iris.data.shape\n",
    "indices = np.random.permutation(len(iris_X))\n",
    "N_test = 15\n",
    "iris_X_train = iris_X[indices[:-N_test]]\n",
    "iris_y_train = iris_y[indices[:-N_test]]\n",
    "iris_X_test  = iris_X[indices[-N_test:]]\n",
    "iris_y_test  = iris_y[indices[-N_test:]]\n",
    "print iris.data[0]"
   ]
  },
  {
   "cell_type": "code",
   "execution_count": null,
   "metadata": {
    "collapsed": true
   },
   "outputs": [],
   "source": []
  }
 ],
 "metadata": {
  "kernelspec": {
   "display_name": "Python 2",
   "language": "python",
   "name": "python2"
  },
  "language_info": {
   "codemirror_mode": {
    "name": "ipython",
    "version": 2
   },
   "file_extension": ".py",
   "mimetype": "text/x-python",
   "name": "python",
   "nbconvert_exporter": "python",
   "pygments_lexer": "ipython2",
   "version": "2.7.12"
  }
 },
 "nbformat": 4,
 "nbformat_minor": 0
}
